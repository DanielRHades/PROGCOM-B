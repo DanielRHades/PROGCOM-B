{
  "nbformat": 4,
  "nbformat_minor": 0,
  "metadata": {
    "colab": {
      "name": "Taller1.ipynb",
      "provenance": []
    },
    "kernelspec": {
      "name": "python3",
      "display_name": "Python 3"
    },
    "language_info": {
      "name": "python"
    }
  },
  "cells": [
    {
      "cell_type": "markdown",
      "source": [
        "#Taller 1"
      ],
      "metadata": {
        "id": "w6JHlZnqquay"
      }
    },
    {
      "cell_type": "markdown",
      "source": [
        "##Ejercicio 1"
      ],
      "metadata": {
        "id": "5qATE2SVqwvT"
      }
    },
    {
      "cell_type": "code",
      "source": [
        "ent1= int(input(\"Dame un número entero: \"))\n",
        "ent2= int(input(\"Dame otro número entero: \"))\n",
        "if ent2!=0:\n",
        " div=ent1/ent2\n",
        " res=ent1%ent2\n",
        " if res==0:\n",
        "   print(\"La división es exacta y su resultado es:\" ,div)\n",
        " else:\n",
        "     print(\"La division no es exacta y su residuo es:\" ,res)\n",
        "else:\n",
        " print(\"No se puede realizar una division entre 0\")"
      ],
      "metadata": {
        "id": "mXcQiFXwq1Q6"
      },
      "execution_count": null,
      "outputs": []
    },
    {
      "cell_type": "markdown",
      "source": [
        "##Ejercicio 2"
      ],
      "metadata": {
        "id": "kMELU3Dzv3_n"
      }
    },
    {
      "cell_type": "code",
      "source": [
        "num1=float(input(\"Dame un número \"))\n",
        "num2=float(input(\"Dame otro número \"))\n",
        "multi=num1%num2\n",
        "if multi==0:\n",
        "  print(\"El número 1 es múltiplo del número 2\")\n",
        "else: \n",
        "  print(\"No son múltiplos.\")"
      ],
      "metadata": {
        "id": "5ZE-lMiLv6Mu"
      },
      "execution_count": null,
      "outputs": []
    },
    {
      "cell_type": "markdown",
      "source": [
        "##Ejercicio 3"
      ],
      "metadata": {
        "id": "-Nqh25tq7Wnn"
      }
    },
    {
      "cell_type": "code",
      "source": [
        "edad1= int(input(\"Dame la edad del primer hermano: \"))\n",
        "edad2= int(input(\"Dame la edad del segundo hermano: \"))\n",
        "edad3= int(input(\"Dame la edad del tercer hermano: \"))\n",
        "orden=sorted([edad1,edad2,edad3])\n",
        "print(\"La edad ordenada de menor a mayor es: \" ,orden)\n",
        "if edad1==edad2 and edad1==edad3: \n",
        " print(\"Los hermanos son trillizos.\")\n",
        "if edad1==edad2 or edad1==edad3 or edad2==edad3:\n",
        "  print(\"Hay una pareja de gemelos.\")"
      ],
      "metadata": {
        "id": "6vDSQvso7bUu"
      },
      "execution_count": null,
      "outputs": []
    },
    {
      "cell_type": "markdown",
      "source": [
        "##Ejercicio 6"
      ],
      "metadata": {
        "id": "6o5g5nuVA-R2"
      }
    },
    {
      "cell_type": "code",
      "source": [
        "nota1=float(input(\"Dame tu primer nota: \"))\n",
        "nota2=float(input(\"Dame tu segunda nota: \"))\n",
        "nota3=float(input(\"Dame tu tercera nota: \"))\n",
        "nota4=float(input(\"Dame tu cuarta nota: \"))\n",
        "prom=((nota1+nota2+nota3+nota4)/4)\n",
        "if prom>4.5:\n",
        "  print(\"Estas eximido del ultimo examen ya que tu promedio es de:\" ,prom)\n",
        "if prom<4.5 and prom>3.5:\n",
        "  print(\"Debes presentar el examen ya que tu promedio es de:\" ,prom)\n",
        "if prom<3.5 and prom>3:\n",
        "  print(\"Debes presentar el examen, ademas presentar un trabajo, ya que tu promedio es de:\" ,prom)\n",
        "if prom<3:\n",
        "  print(\"Estas reprobado ya que tu promedio es de:\" ,prom)"
      ],
      "metadata": {
        "id": "sxHbr-45B17l"
      },
      "execution_count": null,
      "outputs": []
    },
    {
      "cell_type": "markdown",
      "source": [
        "##Ejercicio 8\n"
      ],
      "metadata": {
        "id": "V1xM7t7xGCJw"
      }
    },
    {
      "cell_type": "code",
      "source": [
        "ano=int(input(\"Dame el año: \"))\n",
        "multi4= ano%4\n",
        "multi100= ano%100\n",
        "if multi4==0 and multi100!=0:\n",
        "  print(\"El año es biciesto.\")\n",
        "else:\n",
        "  print(\"El año no es biciesto.\")"
      ],
      "metadata": {
        "id": "KM0BbNakH0fP"
      },
      "execution_count": null,
      "outputs": []
    }
  ]
}