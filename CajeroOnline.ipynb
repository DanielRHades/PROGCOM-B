{
  "nbformat": 4,
  "nbformat_minor": 0,
  "metadata": {
    "colab": {
      "provenance": []
    },
    "kernelspec": {
      "name": "python3",
      "display_name": "Python 3"
    },
    "language_info": {
      "name": "python"
    }
  },
  "cells": [
    {
      "cell_type": "code",
      "execution_count": null,
      "metadata": {
        "id": "9-Tn6-a9-psV"
      },
      "outputs": [],
      "source": [
        "from pandas._libs.lib import to_object_array_tuples\n",
        "#Cajero\n",
        "import pandas as pd\n",
        "total=0\n",
        "print(\"Los rolos cubanos\")\n",
        "Catalogocompras={\"Productos\":[\"Combo 1\",\"Combo 2\",\"Combo 3\",\"Combo 4\",\"Papas \",\"Jugos naturales \",\"Cerveza\",\"Agua\",\"Gaseosas\"],\"\":[\"$\",\"$\",\"$\",\"$\",\"$\",\"$\",\"$\",\"$\",\"$\"],\"Coste\":[20000,25000,18000,24500,3000,7000,3500,4000,2500],\"Cantidad\":[],\"Subtotal\":[],\"Total\":[]}\n",
        "for indice in range(len(Catalogocompras[\"Productos\"])):\n",
        " print(Catalogocompras[\"Productos\"][indice])\n",
        " elemento=int(input(\"Ingrese cuantas unidades desea comprar del producto determinado: \"))\n",
        " print(elemento)\n",
        " Catalogocompras[\"Cantidad\"].append(elemento)\n",
        " subtotal=elemento*Catalogocompras[\"Coste\"][indice]\n",
        " Catalogocompras[\"Subtotal\"].append(subtotal)\n",
        " print(subtotal)\n",
        " total+=subtotal\n",
        " Catalogocompras[\"Total\"].append(total)\n",
        " print(total)\n",
        "pd.DataFrame.from_dict(Catalogocompras)"
      ]
    }
  ]
}