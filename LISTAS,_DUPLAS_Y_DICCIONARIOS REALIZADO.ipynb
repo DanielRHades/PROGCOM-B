{
  "nbformat": 4,
  "nbformat_minor": 0,
  "metadata": {
    "colab": {
      "provenance": []
    },
    "kernelspec": {
      "name": "python3",
      "display_name": "Python 3"
    },
    "language_info": {
      "name": "python"
    }
  },
  "cells": [
    {
      "cell_type": "markdown",
      "source": [
        "#SECUENCIA DE DATOS\n"
      ],
      "metadata": {
        "id": "SHcbrJhhNGOk"
      }
    },
    {
      "cell_type": "markdown",
      "source": [
        "##LISTAS\n",
        "También conocidas como vectores o arrays.\n",
        "Es una variable que, en lugar de contener un valor, contiene una secuencia ordenada de estos, a los que se puede acceder por su posición o por su índice.\n",
        "Se declaran indicando sus elementos, separados por comas, entre corchetes []"
      ],
      "metadata": {
        "id": "325LVBzsM0x7"
      }
    },
    {
      "cell_type": "code",
      "execution_count": null,
      "metadata": {
        "colab": {
          "base_uri": "https://localhost:8080/"
        },
        "id": "23GjaB68MkIG",
        "outputId": "99906d87-a31c-4077-bd5e-cf15324b4bff"
      },
      "outputs": [
        {
          "output_type": "execute_result",
          "data": {
            "text/plain": [
              "['primero', 'segundo', 'tercero', 'cuarto']"
            ]
          },
          "metadata": {},
          "execution_count": 83
        }
      ],
      "source": [
        "lista=[\"primero\",\"segundo\", \"tercero\", \"cuarto\"]\n",
        "lista"
      ]
    },
    {
      "cell_type": "markdown",
      "source": [
        "###Accediendo a los elementos de la lista"
      ],
      "metadata": {
        "id": "yPn3XFg4PWpt"
      }
    },
    {
      "cell_type": "code",
      "source": [
        "#Accediendo a la lista por posición\n",
        "lista[0]"
      ],
      "metadata": {
        "colab": {
          "base_uri": "https://localhost:8080/",
          "height": 36
        },
        "id": "-63XOgdXOzdR",
        "outputId": "7f06a027-7a82-4010-ecd1-baba488bea01"
      },
      "execution_count": null,
      "outputs": [
        {
          "output_type": "execute_result",
          "data": {
            "text/plain": [
              "'primero'"
            ],
            "application/vnd.google.colaboratory.intrinsic+json": {
              "type": "string"
            }
          },
          "metadata": {},
          "execution_count": 2
        }
      ]
    },
    {
      "cell_type": "code",
      "source": [
        "#Accediendo a todos los elementos de la lista empleando el slicing\n",
        "lista[:]"
      ],
      "metadata": {
        "colab": {
          "base_uri": "https://localhost:8080/"
        },
        "id": "cadWYF2xSW8L",
        "outputId": "1f0eb661-290a-467c-e251-f111393db281"
      },
      "execution_count": null,
      "outputs": [
        {
          "output_type": "execute_result",
          "data": {
            "text/plain": [
              "['primero', 'segundo', 'tercero', 'cuarto']"
            ]
          },
          "metadata": {},
          "execution_count": 4
        }
      ]
    },
    {
      "cell_type": "code",
      "source": [
        "#Accediendo a los dos primeros elementos de la lista\n",
        "lista[0:2]"
      ],
      "metadata": {
        "colab": {
          "base_uri": "https://localhost:8080/"
        },
        "id": "XsDQpQKISYiL",
        "outputId": "1a144327-f381-43b2-9303-5ab82cd8aa22"
      },
      "execution_count": null,
      "outputs": [
        {
          "output_type": "execute_result",
          "data": {
            "text/plain": [
              "['primero', 'segundo']"
            ]
          },
          "metadata": {},
          "execution_count": 5
        }
      ]
    },
    {
      "cell_type": "code",
      "source": [
        "#Existe alguna otra manera de imprimir los dos primeros elementos de la lista? Coloque la línea de código que hace esto.\n",
        "lista[-4:-2]"
      ],
      "metadata": {
        "id": "miawsux8S7BD",
        "colab": {
          "base_uri": "https://localhost:8080/"
        },
        "outputId": "6743452c-f1fb-4f6f-a071-27bb61b801a9"
      },
      "execution_count": null,
      "outputs": [
        {
          "output_type": "execute_result",
          "data": {
            "text/plain": [
              "['primero', 'segundo']"
            ]
          },
          "metadata": {},
          "execution_count": 18
        }
      ]
    },
    {
      "cell_type": "code",
      "source": [
        "#Accediendo a los dos últimos elementos de la lista\n",
        "lista[2:4]"
      ],
      "metadata": {
        "colab": {
          "base_uri": "https://localhost:8080/"
        },
        "id": "RNcXanPzTB7u",
        "outputId": "f3927102-fe65-480a-e9d9-a6485dd561ef"
      },
      "execution_count": null,
      "outputs": [
        {
          "output_type": "execute_result",
          "data": {
            "text/plain": [
              "['tercero', 'cuarto']"
            ]
          },
          "metadata": {},
          "execution_count": 13
        }
      ]
    },
    {
      "cell_type": "code",
      "source": [
        "#Qué pasará cuando se usa un índice negativo? Ejemplo: lista[-4], lista[-3]\n",
        "#Se tomará los valores de la lista a la inversa, cuando es lista[4], es el último dato, pero si es lista[-4], va a ser el primer dato, y lista[-3] será el segundo dato.\n",
        "print(lista[-4])\n",
        "print(lista[-3])"
      ],
      "metadata": {
        "id": "_0cx4i7CVF_6",
        "colab": {
          "base_uri": "https://localhost:8080/"
        },
        "outputId": "d9711ffa-e643-4402-ad7c-d23f8cfa26a2"
      },
      "execution_count": null,
      "outputs": [
        {
          "output_type": "stream",
          "name": "stdout",
          "text": [
            "primero\n",
            "segundo\n"
          ]
        }
      ]
    },
    {
      "cell_type": "code",
      "source": [
        "#Existe otra forma para acceder a los dos últimos elementos de la lista?. Coloque la línea de código que hace esto.\n",
        "print(lista[-2:-1])\n",
        "print(lista[-1:])"
      ],
      "metadata": {
        "id": "Eg2ZIr5DTnFJ"
      },
      "execution_count": null,
      "outputs": []
    },
    {
      "cell_type": "code",
      "source": [
        "#Cómo podría saberse la posición de la lista que ocupa un elemento? \n",
        "#Escriba el código que permita ingresar un elemento de la lista, e imprima la posición del elemento de la lista\n",
        "#Podría saberse gracias a una keyword llamada index, la cual se asocia con la lista que vamos a usar de la forma \"lista.index\", y el nombre del elemento para saber su posición.\n",
        "n=str(input(\"Dame un elemento de la lista y te dare la posición: \"))\n",
        "indice=lista.index(n)\n",
        "print(indice)"
      ],
      "metadata": {
        "id": "AFYUJpJCQG9p"
      },
      "execution_count": null,
      "outputs": []
    },
    {
      "cell_type": "markdown",
      "source": [
        "###Operaciones con las listas"
      ],
      "metadata": {
        "id": "OPiv0fe4R8__"
      }
    },
    {
      "cell_type": "code",
      "source": [
        "#Crear una lista vacía\n",
        "ejemplo=[]\n",
        "print(ejemplo)"
      ],
      "metadata": {
        "id": "sgr461D-SAqe",
        "colab": {
          "base_uri": "https://localhost:8080/"
        },
        "outputId": "061a9864-fd3e-4520-e7e4-b38ae8dddc51"
      },
      "execution_count": null,
      "outputs": [
        {
          "output_type": "stream",
          "name": "stdout",
          "text": [
            "[]\n"
          ]
        }
      ]
    },
    {
      "cell_type": "code",
      "source": [
        "#Cómo se podría crear una matriz? Ingrese el código que permita generar una matriz 2x3, siendo la primera fila \"Nombre\", \"Peso\", \"Altura\"\n",
        "#y diligencie la segunda fila con números\n",
        "#Llame a esa matriz calculo_IMC\n",
        "#Debe imprimir \n",
        "#Nombre  Peso[kg] Altura[m]\n",
        "#\"Sofía\"    57      1.65 \n",
        "#Encontre un error en la matriz\n",
        "import numpy as np\n",
        "calculo_IMC= np.array ([[\"Nombre\",\"Peso\",\"Altura\"], [\"Sofia\",57,1.65]])\n",
        "print(calculo_IMC)"
      ],
      "metadata": {
        "id": "NnNEsFRbaUul",
        "colab": {
          "base_uri": "https://localhost:8080/"
        },
        "outputId": "39a4a87d-ad86-4fc0-d593-bda99034cd2f"
      },
      "execution_count": null,
      "outputs": [
        {
          "output_type": "stream",
          "name": "stdout",
          "text": [
            "[['Nombre' 'Peso' 'Altura']\n",
            " ['Sofia' '57' '1.65']]\n"
          ]
        }
      ]
    },
    {
      "cell_type": "code",
      "source": [
        "#Genere una cuarta columna para la matriz IMC, que tenga como nombre IMC y calcule el índice de masa corporal. Esto es:\n",
        "#Nombre  Peso[kg] Altura[m]  IMC\n",
        "#\"Sofía\"    57      1.65     (agrege aquí el resultado del cálculo)\n",
        "import numpy as np\n",
        "calculo_IMC= np.array ([[\"Nombre\",\"Peso\",\"Altura\",\"IMC\"], [\"Sofia\",57,1.65,20.9]])\n",
        "print(calculo_IMC)"
      ],
      "metadata": {
        "id": "UZ_ueaXJdJsT",
        "colab": {
          "base_uri": "https://localhost:8080/"
        },
        "outputId": "7e7412fe-0683-473c-8536-16b22d502ed8"
      },
      "execution_count": null,
      "outputs": [
        {
          "output_type": "stream",
          "name": "stdout",
          "text": [
            "[['Nombre' 'Peso' 'Altura' 'IMC']\n",
            " ['Sofia' '57' '1.65' '20.9']]\n"
          ]
        }
      ]
    },
    {
      "cell_type": "code",
      "source": [
        "#Genere una quinta columna en la matriz calculo_IMC que emita una descripción obtenida del IMC. Esto es:\n",
        "#Nombre  Peso[kg] Altura[m]  IMC        Descripción\n",
        "#\"Sofía\"    57      1.65     (calculo)  (Dependiendo del IMC debe registrar peso normal, sobrepeso, obesidad tipo I, obesidad tipo II... etc.\n",
        "import numpy as np\n",
        "calculo_IMC= np.array ([[\"Nombre\",\"Peso\",\"Altura\",\"IMC\",\"Descripción\"], [\"Sofia\",57,1.65,20.9,\"Esta en un peso normal.\"]])\n",
        "print(calculo_IMC)"
      ],
      "metadata": {
        "id": "cgQqg0YJffSH",
        "colab": {
          "base_uri": "https://localhost:8080/"
        },
        "outputId": "3cb18e66-bab5-42b9-808e-6ddf80b2d6c8"
      },
      "execution_count": null,
      "outputs": [
        {
          "output_type": "stream",
          "name": "stdout",
          "text": [
            "[['Nombre' 'Peso' 'Altura' 'IMC' 'Descripción']\n",
            " ['Sofia' '57' '1.65' '20.9' 'Esta en un peso normal.']]\n"
          ]
        }
      ]
    },
    {
      "cell_type": "code",
      "source": [
        "#Conocer el tamaño del vector\n",
        "len(calculo_IMC)"
      ],
      "metadata": {
        "colab": {
          "base_uri": "https://localhost:8080/"
        },
        "id": "KZ5QnAzbaH_v",
        "outputId": "151e5d66-b7bd-4398-c1f3-01bd86655333"
      },
      "execution_count": null,
      "outputs": [
        {
          "output_type": "execute_result",
          "data": {
            "text/plain": [
              "2"
            ]
          },
          "metadata": {},
          "execution_count": 73
        }
      ]
    },
    {
      "cell_type": "code",
      "source": [
        "#Llenar una lista vacía\n",
        "ejemplo.append(\"Hola\")\n",
        "ejemplo"
      ],
      "metadata": {
        "id": "JsgmYIkuSVFj"
      },
      "execution_count": null,
      "outputs": []
    },
    {
      "cell_type": "code",
      "source": [
        "#Una lista puede tener diferente tipo de datos!!\n",
        "ejemplo=[\"banana\",\"sandía\", 4, 5, False]\n",
        "ejemplo\n",
        "#Qué pasó con el elemento \"Hola\"?\n",
        "#El elemento \"Hola\" no apareció en la lista, ya que \"append\" funciona poniendo un dato al final de la lista, pero este código está puesto antes de la creación de la lista, debe usar el \"append\" luego de crear la lista, o en este caso llenarla, porque venía vacía."
      ],
      "metadata": {
        "colab": {
          "base_uri": "https://localhost:8080/"
        },
        "id": "q6LTGURtY_RM",
        "outputId": "01b02c85-f3cd-4196-f921-5b31bfd6f26a"
      },
      "execution_count": null,
      "outputs": [
        {
          "output_type": "execute_result",
          "data": {
            "text/plain": [
              "['banana', 'sandía', 4, 5, False]"
            ]
          },
          "metadata": {},
          "execution_count": 128
        }
      ]
    },
    {
      "cell_type": "code",
      "source": [
        "#Eliminar un elemento de la lista\n",
        "ejemplo.remove(4)\n",
        "ejemplo"
      ],
      "metadata": {
        "colab": {
          "base_uri": "https://localhost:8080/",
          "height": 200
        },
        "id": "p_o0X4fKZw0k",
        "outputId": "e788ca3e-0f8f-42c7-b433-50746bb8b194"
      },
      "execution_count": null,
      "outputs": [
        {
          "output_type": "error",
          "ename": "ValueError",
          "evalue": "ignored",
          "traceback": [
            "\u001b[0;31m---------------------------------------------------------------------------\u001b[0m",
            "\u001b[0;31mValueError\u001b[0m                                Traceback (most recent call last)",
            "\u001b[0;32m<ipython-input-118-ae62dbb9c90c>\u001b[0m in \u001b[0;36m<module>\u001b[0;34m\u001b[0m\n\u001b[1;32m      1\u001b[0m \u001b[0;31m#Eliminar un elemento de la lista\u001b[0m\u001b[0;34m\u001b[0m\u001b[0;34m\u001b[0m\u001b[0;34m\u001b[0m\u001b[0m\n\u001b[0;32m----> 2\u001b[0;31m \u001b[0mejemplo\u001b[0m\u001b[0;34m.\u001b[0m\u001b[0mremove\u001b[0m\u001b[0;34m(\u001b[0m\u001b[0;36m4\u001b[0m\u001b[0;34m)\u001b[0m\u001b[0;34m\u001b[0m\u001b[0;34m\u001b[0m\u001b[0m\n\u001b[0m\u001b[1;32m      3\u001b[0m \u001b[0mejemplo\u001b[0m\u001b[0;34m\u001b[0m\u001b[0;34m\u001b[0m\u001b[0m\n",
            "\u001b[0;31mValueError\u001b[0m: list.remove(x): x not in list"
          ]
        }
      ]
    },
    {
      "cell_type": "code",
      "source": [
        "#Podría explicar el error generado?\n",
        "ejemplo.remove(4)\n",
        "#Este error salta porque una vez ejecutado el código, se borra de forma definitiva el 4, la solución es volver a llenar la lista con el código de arriba, ya que no se puede borrar algo 2 veces seguidas."
      ],
      "metadata": {
        "id": "ODz7MJvbbh8e"
      },
      "execution_count": null,
      "outputs": []
    },
    {
      "cell_type": "code",
      "source": [
        "#Podría explicar el resultado de este método? \n",
        "del ejemplo[2]\n",
        "ejemplo\n",
        "#El \"del\" se encarga de eliminar el elemento u objeto seleccionado, en este caso el que se encuentra ocupando el puesto 2, así que cada vez que se ejecute se borrara nuevamente el que se encuentre ahora en el segundo puesto."
      ],
      "metadata": {
        "id": "lhRUkQOEcWHu"
      },
      "execution_count": null,
      "outputs": []
    },
    {
      "cell_type": "markdown",
      "source": [
        "### EJERCICIO PARA ELIMINAR UN QUEST OBLIGATORIO ☝\n",
        "\n",
        "![Texto alternativo](https://cdn.memegenerator.es/imagenes/memes/full/28/50/28507442.jpg)\n",
        "\n",
        "Realiza el ejercicio propuesto de forma correcta antes de que acabe el tiempo, y hazte acreedor@ de eliminar un quest obligatorio ✨"
      ],
      "metadata": {
        "id": "hmS_3bTvgCph"
      }
    },
    {
      "cell_type": "code",
      "source": [
        "# Revise la página https://www.researchgate.net/publication/273298847_Piedra_Papel_Tijera_y_sus_generalizaciones\n",
        "#Programe Piedra, papel, tijera, spock, lagarto, Papa y heavy usando arreglos.\n"
      ],
      "metadata": {
        "id": "p0SGwGpNgBaz"
      },
      "execution_count": null,
      "outputs": []
    }
  ]
}