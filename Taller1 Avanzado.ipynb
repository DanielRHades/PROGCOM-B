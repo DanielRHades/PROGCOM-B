{
  "nbformat": 4,
  "nbformat_minor": 0,
  "metadata": {
    "colab": {
      "name": "Taller1.ipynb",
      "provenance": []
    },
    "kernelspec": {
      "name": "python3",
      "display_name": "Python 3"
    },
    "language_info": {
      "name": "python"
    }
  },
  "cells": [
    {
      "cell_type": "markdown",
      "source": [
        "#Taller 1"
      ],
      "metadata": {
        "id": "w6JHlZnqquay"
      }
    },
    {
      "cell_type": "markdown",
      "source": [
        "##Ejercicio 1"
      ],
      "metadata": {
        "id": "5qATE2SVqwvT"
      }
    },
    {
      "cell_type": "code",
      "source": [
        "ent1= int(input(\"Dame un número entero: \"))\n",
        "ent2= int(input(\"Dame otro número entero: \"))\n",
        "if ent2!=0:\n",
        " div=ent1/ent2\n",
        " res=ent1%ent2\n",
        " if res==0:\n",
        "   print(\"La división es exacta y su resultado es:\" ,div)\n",
        " else:\n",
        "     print(\"La division no es exacta y su residuo es:\" ,res)\n",
        "else:\n",
        " print(\"No se puede realizar una division entre 0\")"
      ],
      "metadata": {
        "id": "mXcQiFXwq1Q6"
      },
      "execution_count": null,
      "outputs": []
    },
    {
      "cell_type": "markdown",
      "source": [
        "##Ejercicio 2"
      ],
      "metadata": {
        "id": "kMELU3Dzv3_n"
      }
    },
    {
      "cell_type": "code",
      "source": [
        "num1=float(input(\"Dame un número \"))\n",
        "num2=float(input(\"Dame otro número \"))\n",
        "multi=num1%num2\n",
        "if multi==0:\n",
        "  print(\"El número 1 es múltiplo del número 2\")\n",
        "else: \n",
        "  print(\"No son múltiplos.\")"
      ],
      "metadata": {
        "id": "5ZE-lMiLv6Mu"
      },
      "execution_count": null,
      "outputs": []
    },
    {
      "cell_type": "markdown",
      "source": [
        "##Ejercicio 3"
      ],
      "metadata": {
        "id": "-Nqh25tq7Wnn"
      }
    },
    {
      "cell_type": "code",
      "source": [
        "edad1= int(input(\"Dame la edad del primer hermano: \"))\n",
        "edad2= int(input(\"Dame la edad del segundo hermano: \"))\n",
        "edad3= int(input(\"Dame la edad del tercer hermano: \"))\n",
        "orden=sorted([edad1,edad2,edad3])\n",
        "print(\"La edad ordenada de menor a mayor es: \" ,orden)\n",
        "if edad1==edad2==edad3: \n",
        " print(\"Los hermanos son trillizos.\")\n",
        "elif edad1==edad2 or edad1==edad3 or edad2==edad3:\n",
        "  print(\"Hay una pareja de gemelos.\")"
      ],
      "metadata": {
        "id": "6vDSQvso7bUu"
      },
      "execution_count": null,
      "outputs": []
    },
    {
      "cell_type": "markdown",
      "source": [
        "##Ejercicio 6"
      ],
      "metadata": {
        "id": "6o5g5nuVA-R2"
      }
    },
    {
      "cell_type": "code",
      "source": [
        "nota1=float(input(\"Dame tu primer nota: \"))\n",
        "nota2=float(input(\"Dame tu segunda nota: \"))\n",
        "nota3=float(input(\"Dame tu tercera nota: \"))\n",
        "nota4=float(input(\"Dame tu cuarta nota: \"))\n",
        "prom=((nota1+nota2+nota3+nota4)/4)\n",
        "if prom>4.5:\n",
        "  print(\"Estas eximido del ultimo examen ya que tu promedio es de:\" ,prom)\n",
        "if prom<4.5 and prom>3.5:\n",
        "  print(\"Debes presentar el examen ya que tu promedio es de:\" ,prom)\n",
        "if prom<3.5 and prom>3:\n",
        "  print(\"Debes presentar el examen, ademas presentar un trabajo, ya que tu promedio es de:\" ,prom)\n",
        "if prom<3:\n",
        "  print(\"Estas reprobado ya que tu promedio es de:\" ,prom)"
      ],
      "metadata": {
        "id": "sxHbr-45B17l"
      },
      "execution_count": null,
      "outputs": []
    },
    {
      "cell_type": "markdown",
      "source": [
        "##Ejercicio 8\n"
      ],
      "metadata": {
        "id": "V1xM7t7xGCJw"
      }
    },
    {
      "cell_type": "code",
      "source": [
        "ano=int(input(\"Dame el año: \"))\n",
        "multi4= ano%4\n",
        "multi100= ano%100\n",
        "if multi4==0 and multi100!=0:\n",
        "  print(\"El año es biciesto.\")\n",
        "else:\n",
        "  print(\"El año no es biciesto.\")"
      ],
      "metadata": {
        "id": "KM0BbNakH0fP"
      },
      "execution_count": null,
      "outputs": []
    },
    {
      "cell_type": "markdown",
      "source": [
        "##Ejercicio 12"
      ],
      "metadata": {
        "id": "J0mkm6Ww6O2A"
      }
    },
    {
      "cell_type": "code",
      "source": [
        "operacion=int(input(\"Dime la operación que deseas realizar, para SUMA:1, RESTA:2, MULTIPLICACIÓN:3, DIVISIÓN: 4 \"))\n",
        "from random import *\n",
        "n1= randrange(1,21)\n",
        "n2= randrange(1,21)\n",
        "if operacion==1:\n",
        "  print(f\"Dame la respuesta de {n1} + {n2}\")\n",
        "  respuesta=float(input())\n",
        "  if respuesta==(n1+n2):\n",
        "    print(\"La respuesta es correcta.\")\n",
        "  else:\n",
        "    print(\"La respuesta es incorrecta.\")\n",
        "if operacion==2:\n",
        "  print(f\"Dame la respuesta de {n1} - {n2}\")\n",
        "  respuesta=float(input())\n",
        "  if respuesta==(n1-n2):\n",
        "    print(\"La respuesta es correcta.\")\n",
        "  else:\n",
        "    print(\"La respuesta es incorrecta.\")\n",
        "if operacion==3:\n",
        "  print(f\"Dame la respuesta de {n1} * {n2}\")\n",
        "  respuesta=float(input())\n",
        "  if respuesta==(n1*n2):\n",
        "    print(\"La respuesta es correcta.\")\n",
        "  else:\n",
        "    print(\"La respuesta es incorrecta.\")\n",
        "if operacion==4:\n",
        "  print(f\"Dame la respuesta de {n1} / {n2}\")\n",
        "  respuesta=float(input())\n",
        "  if respuesta==(n1/n2):\n",
        "    print(\"La respuesta es correcta.\")\n",
        "  else:\n",
        "    print(\"La respuesta es incorrecta.\")"
      ],
      "metadata": {
        "id": "xumq5XCb6Riq"
      },
      "execution_count": null,
      "outputs": []
    },
    {
      "cell_type": "markdown",
      "source": [
        "##Ejercicio 14"
      ],
      "metadata": {
        "id": "KLrVkxMo2c9M"
      }
    },
    {
      "cell_type": "code",
      "source": [
        "letra= str(input(\"Dame un letra y te dire si es vocal o consonante: \")).lower()\n",
        "if letra ==\"a\" or letra==\"e\" or letra==\"i\" or letra==\"o\" or letra==\"u\":\n",
        " print(\"Es una vocal.\")\n",
        "if letra== \"b\" or letra== \"c\" or letra== \"d\" or letra== \"f\" or letra== \"g\" or letra== \"h\" or letra== \"j\" or letra== \"k\" or letra== \"l\" or letra== \"m\" or letra== \"n\" or letra== \"o\" or letra== \"p\" or letra== \"q\" or letra== \"r\" or letra== \"s\" or letra== \"t\" or letra== \"v\" or letra== \"x\" or letra== \"w\" or letra== \"y\" or letra== \"z\":\n",
        " print(\"Es una consonante.\")"
      ],
      "metadata": {
        "id": "16_hYZmU2fZs"
      },
      "execution_count": null,
      "outputs": []
    },
    {
      "cell_type": "markdown",
      "source": [
        "##Ejercicio 15"
      ],
      "metadata": {
        "id": "sjQFew7J9Pvz"
      }
    },
    {
      "cell_type": "code",
      "source": [
        "numero= int(input(\"Dame un número entero: \"))\n",
        "valabso=abs(numero)\n",
        "print(\"El valor absoluto de tu número es:\" ,valabso)"
      ],
      "metadata": {
        "id": "4XJg3ZXj9Rvc"
      },
      "execution_count": null,
      "outputs": []
    },
    {
      "cell_type": "markdown",
      "source": [
        "##Ejercicio 16"
      ],
      "metadata": {
        "id": "nTflVJuj-D0u"
      }
    },
    {
      "cell_type": "code",
      "source": [
        "user1= str(input(\"Dame tu nombre :\"))\n",
        "user2= str(input(\"Dame tu nombre :\"))\n",
        "primerauser1= user1[0]\n",
        "primerauser2= user2[0]\n",
        "ultimauser1= user1[-1:]\n",
        "ultimauser2= user2[-1:]\n",
        "if primerauser1==primerauser2 or ultimauser1==ultimauser2:\n",
        "  print(\"Hay coincidencia.\")\n",
        "else:\n",
        "  print(\"No hay coincidencia.\")"
      ],
      "metadata": {
        "id": "G9jFiyza-IT8"
      },
      "execution_count": null,
      "outputs": []
    },
    {
      "cell_type": "markdown",
      "source": [
        "##Ejercicio 17"
      ],
      "metadata": {
        "id": "jzUZMtMALOt6"
      }
    },
    {
      "cell_type": "code",
      "source": [
        "voto=str(input(\"Dime si vas a votar por el candidato A, candidato B o candidato C, para escoger uno digita la letra A, B o C: \"))\n",
        "if voto==\"A\":\n",
        "  print(\"Votaste por el candidato A del partido Alfa.\")\n",
        "if voto==\"B\":\n",
        "   print(\"Votaste por el candidato B del partido Beta.\")\n",
        "if voto==\"C\":\n",
        "    print(\"Votaste por el candidato C del partido Gamma.\")\n",
        "if voto!=\"A\" and voto!=\"B\" and voto!=\"C\":\n",
        "  print(\"Error\")"
      ],
      "metadata": {
        "id": "DviiTDAdLhDh"
      },
      "execution_count": null,
      "outputs": []
    },
    {
      "cell_type": "markdown",
      "source": [
        "##Ejercicio 18"
      ],
      "metadata": {
        "id": "EgwiPg_iPIm3"
      }
    },
    {
      "cell_type": "code",
      "source": [
        "numero=int(input(\"Dame un numero entero de 3 digitos :\"))\n",
        "centenas=(numero%1000-numero%100)//100\n",
        "decenas=(numero%100-numero%10)//10\n",
        "unidades=numero%10\n",
        "print(f\"El numero tiene {centenas} centenas, {decenas} decenas y {unidades} unidades.\")"
      ],
      "metadata": {
        "id": "Mv06BUuxPLHg"
      },
      "execution_count": null,
      "outputs": []
    },
    {
      "cell_type": "markdown",
      "source": [
        "##Ejercicio 19"
      ],
      "metadata": {
        "id": "tJL2nB3yQVza"
      }
    },
    {
      "cell_type": "code",
      "source": [
        "palabra=str(input(\"Dame una palabra: \")).lower()\n",
        "if str(palabra)==str(palabra[::-1]):\n",
        "  print(\"Es una palíndromo.\")\n",
        "else:\n",
        "  print(\"No es un palíndromo.\")"
      ],
      "metadata": {
        "id": "B-6TCEtsQYn3"
      },
      "execution_count": null,
      "outputs": []
    },
    {
      "cell_type": "markdown",
      "source": [
        "##Ejercicio 20"
      ],
      "metadata": {
        "id": "5x0O8lbkR5ja"
      }
    },
    {
      "cell_type": "code",
      "source": [
        "numero=input(\"Dame una número: \")\n",
        "if str(numero)==str(numero[::-1]):\n",
        "  print(\"Es una palíndromo.\")\n",
        "else:\n",
        "  print(\"No es un palíndromo.\")"
      ],
      "metadata": {
        "id": "FnnuadNmR78y"
      },
      "execution_count": null,
      "outputs": []
    }
  ]
}