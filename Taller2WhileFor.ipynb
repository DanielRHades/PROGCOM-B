{
  "nbformat": 4,
  "nbformat_minor": 0,
  "metadata": {
    "colab": {
      "name": "Taller2WhileFor.ipynb",
      "provenance": []
    },
    "kernelspec": {
      "name": "python3",
      "display_name": "Python 3"
    },
    "language_info": {
      "name": "python"
    }
  },
  "cells": [
    {
      "cell_type": "markdown",
      "source": [
        "#Taller 2\n",
        "##Daniel Leonardo Rodriguez\n",
        "##Adrian Parra"
      ],
      "metadata": {
        "id": "kVSsI5vPa8Oe"
      }
    },
    {
      "cell_type": "markdown",
      "source": [
        "##Ejercicio 2 While"
      ],
      "metadata": {
        "id": "JaQc1njAWXXJ"
      }
    },
    {
      "cell_type": "code",
      "execution_count": null,
      "metadata": {
        "id": "iLUw8KhzWO3b"
      },
      "outputs": [],
      "source": [
        "n1=0\n",
        "n2=1\n",
        "suma=0\n",
        "cont=1\n",
        "print(\"Secuencia: \")\n",
        "while cont<=30:\n",
        " print(suma)\n",
        " cont=cont+1\n",
        " n1=n2\n",
        " n2=suma\n",
        " suma=n1+n2"
      ]
    },
    {
      "cell_type": "markdown",
      "source": [
        "##Ejercicio 2 For"
      ],
      "metadata": {
        "id": "N6bJ5vqTZ2Lx"
      }
    },
    {
      "cell_type": "code",
      "source": [
        "n1=0\n",
        "n2=1\n",
        "suma=0\n",
        "print(\"Secuencia: \")\n",
        "for i in range (1,31,1):\n",
        "  print(suma)\n",
        "  n1=n2\n",
        "  n2=suma\n",
        "  suma=n1+n2"
      ],
      "metadata": {
        "id": "AWslnv8UZ8VY"
      },
      "execution_count": null,
      "outputs": []
    },
    {
      "cell_type": "markdown",
      "source": [
        "##Ejercicio 6 For"
      ],
      "metadata": {
        "id": "LMzuoCobdRu_"
      }
    },
    {
      "cell_type": "code",
      "source": [
        "print(\"Este programa muestra la tabla de multiplicar de un número\")\n",
        "x=int(input(\"Número: \"))\n",
        "print (\"- Tabla del\",x, \"-\")\n",
        "for i in range(1,11):\n",
        "  print(x,\"x\",i,\"=\",x*i)"
      ],
      "metadata": {
        "id": "P1u3tAWpdUDe"
      },
      "execution_count": null,
      "outputs": []
    },
    {
      "cell_type": "markdown",
      "source": [
        "##Ejercicio 6 While"
      ],
      "metadata": {
        "id": "iDvv15ZydXwt"
      }
    },
    {
      "cell_type": "code",
      "source": [
        "print(\"Este programa muestra la tabla de multiplicar de un número\")\n",
        "x=int(input(\"Número: \"))\n",
        "n=1\n",
        "print(\"- Tabla del\",x, \"-\")\n",
        "while n<11:\n",
        "  print(x,\"x\",n,\"=\",x*n)\n",
        "  n+=1"
      ],
      "metadata": {
        "id": "SvYxggCDdaTV"
      },
      "execution_count": null,
      "outputs": []
    },
    {
      "cell_type": "markdown",
      "source": [
        "##Ejercicio 7 While"
      ],
      "metadata": {
        "id": "vZXk8dLZbKT1"
      }
    },
    {
      "cell_type": "code",
      "source": [
        "N=110\n",
        "i=0\n",
        "suma=0\n",
        "while N!=0:\n",
        "  i=N-10\n",
        "  suma+=i\n",
        "  N=N-10\n",
        "print(\"La suma 100+90+80...:\", suma)"
      ],
      "metadata": {
        "id": "VMvXFX3vbgVN"
      },
      "execution_count": null,
      "outputs": []
    }
  ]
}