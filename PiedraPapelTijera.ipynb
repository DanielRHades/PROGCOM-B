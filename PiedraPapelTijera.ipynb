{
  "nbformat": 4,
  "nbformat_minor": 0,
  "metadata": {
    "colab": {
      "name": "PiedraPapelTijera.ipynb",
      "provenance": []
    },
    "kernelspec": {
      "name": "python3",
      "display_name": "Python 3"
    },
    "language_info": {
      "name": "python"
    }
  },
  "cells": [
    {
      "cell_type": "code",
      "execution_count": null,
      "metadata": {
        "id": "l6Zw5UetMYsh"
      },
      "outputs": [],
      "source": [
        "##PiedraPapelTijeras\n",
        "import random \n",
        "posibilidades=[\"piedra\",\"papel\",\"tijeras\"]\n",
        "rango=random.randint(0,2)\n",
        "pc=posibilidades[rango]\n",
        "jugador=str(input(\"Vamos a jugar piedra, papel o tijeras, dime cuál eliges: \")).lower()\n",
        "if jugador==pc:\n",
        " print(f\"La PC escogió {pc}, empate :/\")\n",
        "if jugador==\"piedra\":\n",
        " if pc==\"papel\":\n",
        "   print(f\"La PC escogió {pc}, perdiste paila!!\") \n",
        " if pc==\"tijeras\":\n",
        "   print(f\"La PC escogió {pc}, ganaste niceee!\")\n",
        "if jugador==\"papel\":\n",
        " if pc==\"tijeras\":\n",
        "   print(f\"La PC escogió {pc}, perdiste paila!!\") \n",
        " if pc==\"piedra\":\n",
        "   print(f\"La PC escogió {pc}, ganaste niceee!\")\n",
        "if jugador==\"tijeras\":\n",
        " if pc==\"papel\":\n",
        "   print(f\"La PC escogió {pc}, ganaste niceee!\") \n",
        " if pc==\"piedra\":\n",
        "   print(f\"La PC escogió {pc}, perdiste paila!!\")"
      ]
    },
    {
      "cell_type": "markdown",
      "source": [
        ""
      ],
      "metadata": {
        "id": "mBwHOPZkUpOS"
      }
    }
  ]
}
